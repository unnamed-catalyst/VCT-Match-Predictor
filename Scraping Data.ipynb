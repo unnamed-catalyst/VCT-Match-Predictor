{
 "cells": [
  {
   "cell_type": "markdown",
   "id": "63e33d23",
   "metadata": {},
   "source": [
    "## Importing the necessary dependencies"
   ]
  },
  {
   "cell_type": "code",
   "execution_count": 3,
   "id": "df168b7a",
   "metadata": {
    "collapsed": true,
    "jupyter": {
     "outputs_hidden": true
    }
   },
   "outputs": [
    {
     "name": "stdout",
     "output_type": "stream",
     "text": [
      "Defaulting to user installation because normal site-packages is not writeable\n",
      "Requirement already satisfied: requests in c:\\programdata\\anaconda3\\lib\\site-packages (2.32.3)\n",
      "Requirement already satisfied: beautifulsoup4 in c:\\programdata\\anaconda3\\lib\\site-packages (4.12.3)\n",
      "Requirement already satisfied: selenium in c:\\users\\nawaf\\appdata\\roaming\\python\\python312\\site-packages (4.31.0)\n",
      "Requirement already satisfied: pandas in c:\\programdata\\anaconda3\\lib\\site-packages (2.2.2)\n",
      "Requirement already satisfied: charset-normalizer<4,>=2 in c:\\programdata\\anaconda3\\lib\\site-packages (from requests) (3.3.2)\n",
      "Requirement already satisfied: idna<4,>=2.5 in c:\\programdata\\anaconda3\\lib\\site-packages (from requests) (3.7)\n",
      "Requirement already satisfied: urllib3<3,>=1.21.1 in c:\\programdata\\anaconda3\\lib\\site-packages (from requests) (2.2.3)\n",
      "Requirement already satisfied: certifi>=2017.4.17 in c:\\programdata\\anaconda3\\lib\\site-packages (from requests) (2024.8.30)\n",
      "Requirement already satisfied: soupsieve>1.2 in c:\\programdata\\anaconda3\\lib\\site-packages (from beautifulsoup4) (2.5)\n",
      "Requirement already satisfied: trio~=0.17 in c:\\users\\nawaf\\appdata\\roaming\\python\\python312\\site-packages (from selenium) (0.29.0)\n",
      "Requirement already satisfied: trio-websocket~=0.9 in c:\\users\\nawaf\\appdata\\roaming\\python\\python312\\site-packages (from selenium) (0.12.2)\n",
      "Requirement already satisfied: typing_extensions~=4.9 in c:\\programdata\\anaconda3\\lib\\site-packages (from selenium) (4.11.0)\n",
      "Requirement already satisfied: websocket-client~=1.8 in c:\\programdata\\anaconda3\\lib\\site-packages (from selenium) (1.8.0)\n",
      "Requirement already satisfied: numpy>=1.26.0 in c:\\programdata\\anaconda3\\lib\\site-packages (from pandas) (1.26.4)\n",
      "Requirement already satisfied: python-dateutil>=2.8.2 in c:\\programdata\\anaconda3\\lib\\site-packages (from pandas) (2.9.0.post0)\n",
      "Requirement already satisfied: pytz>=2020.1 in c:\\programdata\\anaconda3\\lib\\site-packages (from pandas) (2024.1)\n",
      "Requirement already satisfied: tzdata>=2022.7 in c:\\programdata\\anaconda3\\lib\\site-packages (from pandas) (2023.3)\n",
      "Requirement already satisfied: six>=1.5 in c:\\programdata\\anaconda3\\lib\\site-packages (from python-dateutil>=2.8.2->pandas) (1.16.0)\n",
      "Requirement already satisfied: attrs>=23.2.0 in c:\\users\\nawaf\\appdata\\roaming\\python\\python312\\site-packages (from trio~=0.17->selenium) (25.3.0)\n",
      "Requirement already satisfied: sortedcontainers in c:\\programdata\\anaconda3\\lib\\site-packages (from trio~=0.17->selenium) (2.4.0)\n",
      "Requirement already satisfied: outcome in c:\\users\\nawaf\\appdata\\roaming\\python\\python312\\site-packages (from trio~=0.17->selenium) (1.3.0.post0)\n",
      "Requirement already satisfied: sniffio>=1.3.0 in c:\\programdata\\anaconda3\\lib\\site-packages (from trio~=0.17->selenium) (1.3.0)\n",
      "Requirement already satisfied: cffi>=1.14 in c:\\programdata\\anaconda3\\lib\\site-packages (from trio~=0.17->selenium) (1.17.1)\n",
      "Requirement already satisfied: wsproto>=0.14 in c:\\users\\nawaf\\appdata\\roaming\\python\\python312\\site-packages (from trio-websocket~=0.9->selenium) (1.2.0)\n",
      "Requirement already satisfied: pysocks!=1.5.7,<2.0,>=1.5.6 in c:\\programdata\\anaconda3\\lib\\site-packages (from urllib3[socks]<3,>=1.26->selenium) (1.7.1)\n",
      "Requirement already satisfied: pycparser in c:\\programdata\\anaconda3\\lib\\site-packages (from cffi>=1.14->trio~=0.17->selenium) (2.21)\n",
      "Requirement already satisfied: h11<1,>=0.9.0 in c:\\programdata\\anaconda3\\lib\\site-packages (from wsproto>=0.14->trio-websocket~=0.9->selenium) (0.14.0)\n"
     ]
    }
   ],
   "source": [
    "!pip install requests beautifulsoup4 selenium pandas"
   ]
  },
  {
   "cell_type": "code",
   "execution_count": 2,
   "id": "ac1b8bd6",
   "metadata": {
    "collapsed": true,
    "jupyter": {
     "outputs_hidden": true
    },
    "scrolled": true
   },
   "outputs": [
    {
     "name": "stdout",
     "output_type": "stream",
     "text": [
      "Defaulting to user installation because normal site-packages is not writeable\n",
      "Collecting undetected_chromedriver\n",
      "  Downloading undetected-chromedriver-3.5.5.tar.gz (65 kB)\n",
      "  Preparing metadata (setup.py): started\n",
      "  Preparing metadata (setup.py): finished with status 'done'\n",
      "Collecting selenium>=4.9.0 (from undetected_chromedriver)\n",
      "  Downloading selenium-4.31.0-py3-none-any.whl.metadata (7.5 kB)\n",
      "Requirement already satisfied: requests in c:\\programdata\\anaconda3\\lib\\site-packages (from undetected_chromedriver) (2.32.3)\n",
      "Collecting websockets (from undetected_chromedriver)\n",
      "  Downloading websockets-15.0.1-cp312-cp312-win_amd64.whl.metadata (7.0 kB)\n",
      "Requirement already satisfied: urllib3<3,>=1.26 in c:\\programdata\\anaconda3\\lib\\site-packages (from urllib3[socks]<3,>=1.26->selenium>=4.9.0->undetected_chromedriver) (2.2.3)\n",
      "Collecting trio~=0.17 (from selenium>=4.9.0->undetected_chromedriver)\n",
      "  Downloading trio-0.29.0-py3-none-any.whl.metadata (8.5 kB)\n",
      "Collecting trio-websocket~=0.9 (from selenium>=4.9.0->undetected_chromedriver)\n",
      "  Downloading trio_websocket-0.12.2-py3-none-any.whl.metadata (5.1 kB)\n",
      "Requirement already satisfied: certifi>=2021.10.8 in c:\\programdata\\anaconda3\\lib\\site-packages (from selenium>=4.9.0->undetected_chromedriver) (2024.8.30)\n",
      "Requirement already satisfied: typing_extensions~=4.9 in c:\\programdata\\anaconda3\\lib\\site-packages (from selenium>=4.9.0->undetected_chromedriver) (4.11.0)\n",
      "Requirement already satisfied: websocket-client~=1.8 in c:\\programdata\\anaconda3\\lib\\site-packages (from selenium>=4.9.0->undetected_chromedriver) (1.8.0)\n",
      "Requirement already satisfied: charset-normalizer<4,>=2 in c:\\programdata\\anaconda3\\lib\\site-packages (from requests->undetected_chromedriver) (3.3.2)\n",
      "Requirement already satisfied: idna<4,>=2.5 in c:\\programdata\\anaconda3\\lib\\site-packages (from requests->undetected_chromedriver) (3.7)\n",
      "Collecting attrs>=23.2.0 (from trio~=0.17->selenium>=4.9.0->undetected_chromedriver)\n",
      "  Downloading attrs-25.3.0-py3-none-any.whl.metadata (10 kB)\n",
      "Requirement already satisfied: sortedcontainers in c:\\programdata\\anaconda3\\lib\\site-packages (from trio~=0.17->selenium>=4.9.0->undetected_chromedriver) (2.4.0)\n",
      "Collecting outcome (from trio~=0.17->selenium>=4.9.0->undetected_chromedriver)\n",
      "  Downloading outcome-1.3.0.post0-py2.py3-none-any.whl.metadata (2.6 kB)\n",
      "Requirement already satisfied: sniffio>=1.3.0 in c:\\programdata\\anaconda3\\lib\\site-packages (from trio~=0.17->selenium>=4.9.0->undetected_chromedriver) (1.3.0)\n",
      "Requirement already satisfied: cffi>=1.14 in c:\\programdata\\anaconda3\\lib\\site-packages (from trio~=0.17->selenium>=4.9.0->undetected_chromedriver) (1.17.1)\n",
      "Collecting wsproto>=0.14 (from trio-websocket~=0.9->selenium>=4.9.0->undetected_chromedriver)\n",
      "  Downloading wsproto-1.2.0-py3-none-any.whl.metadata (5.6 kB)\n",
      "Requirement already satisfied: pysocks!=1.5.7,<2.0,>=1.5.6 in c:\\programdata\\anaconda3\\lib\\site-packages (from urllib3[socks]<3,>=1.26->selenium>=4.9.0->undetected_chromedriver) (1.7.1)\n",
      "Requirement already satisfied: pycparser in c:\\programdata\\anaconda3\\lib\\site-packages (from cffi>=1.14->trio~=0.17->selenium>=4.9.0->undetected_chromedriver) (2.21)\n",
      "Requirement already satisfied: h11<1,>=0.9.0 in c:\\programdata\\anaconda3\\lib\\site-packages (from wsproto>=0.14->trio-websocket~=0.9->selenium>=4.9.0->undetected_chromedriver) (0.14.0)\n",
      "Downloading selenium-4.31.0-py3-none-any.whl (9.4 MB)\n",
      "   ---------------------------------------- 0.0/9.4 MB ? eta -:--:--\n",
      "   -------- ------------------------------- 2.1/9.4 MB 11.8 MB/s eta 0:00:01\n",
      "   ------------------- -------------------- 4.5/9.4 MB 12.2 MB/s eta 0:00:01\n",
      "   ----------------------------- ---------- 6.8/9.4 MB 12.0 MB/s eta 0:00:01\n",
      "   ---------------------------------------- 9.4/9.4 MB 11.9 MB/s eta 0:00:00\n",
      "Downloading websockets-15.0.1-cp312-cp312-win_amd64.whl (176 kB)\n",
      "Downloading trio-0.29.0-py3-none-any.whl (492 kB)\n",
      "Downloading trio_websocket-0.12.2-py3-none-any.whl (21 kB)\n",
      "Downloading attrs-25.3.0-py3-none-any.whl (63 kB)\n",
      "Downloading outcome-1.3.0.post0-py2.py3-none-any.whl (10 kB)\n",
      "Downloading wsproto-1.2.0-py3-none-any.whl (24 kB)\n",
      "Building wheels for collected packages: undetected_chromedriver\n",
      "  Building wheel for undetected_chromedriver (setup.py): started\n",
      "  Building wheel for undetected_chromedriver (setup.py): finished with status 'done'\n",
      "  Created wheel for undetected_chromedriver: filename=undetected_chromedriver-3.5.5-py3-none-any.whl size=47130 sha256=343c199ed199ad98a5eb9b240bdc2f0981025c796e7215b5c63690637a361dd5\n",
      "  Stored in directory: c:\\users\\nawaf\\appdata\\local\\pip\\cache\\wheels\\c4\\f1\\aa\\9de6cf276210554d91e9c0526864563e850a428c5e76da4914\n",
      "Successfully built undetected_chromedriver\n",
      "Installing collected packages: wsproto, websockets, attrs, outcome, trio, trio-websocket, selenium, undetected_chromedriver\n",
      "Successfully installed attrs-25.3.0 outcome-1.3.0.post0 selenium-4.31.0 trio-0.29.0 trio-websocket-0.12.2 undetected_chromedriver-3.5.5 websockets-15.0.1 wsproto-1.2.0\n"
     ]
    },
    {
     "name": "stderr",
     "output_type": "stream",
     "text": [
      "  WARNING: The script websockets.exe is installed in 'C:\\Users\\nawaf\\AppData\\Roaming\\Python\\Python312\\Scripts' which is not on PATH.\n",
      "  Consider adding this directory to PATH or, if you prefer to suppress this warning, use --no-warn-script-location.\n"
     ]
    }
   ],
   "source": [
    "!pip install undetected_chromedriver"
   ]
  },
  {
   "cell_type": "code",
   "execution_count": 3,
   "id": "7eeb3f6d",
   "metadata": {},
   "outputs": [],
   "source": [
    "import pandas as pd\n",
    "import requests\n",
    "\n",
    "import undetected_chromedriver as uc\n",
    "import time\n",
    "import pandas as pd \n",
    "from selenium.webdriver.common.by import By\n",
    "from selenium.webdriver.support.ui import WebDriverWait\n",
    "from selenium.webdriver.support import expected_conditions as EC"
   ]
  },
  {
   "cell_type": "markdown",
   "id": "bdcb277c",
   "metadata": {},
   "source": [
    "## Predefined Functions"
   ]
  },
  {
   "cell_type": "code",
   "execution_count": 4,
   "id": "e73a79e1",
   "metadata": {},
   "outputs": [],
   "source": [
    "# Convert \"X / Y\" to percentage\n",
    "def to_percentage(value):\n",
    "    if (value == '-'):\n",
    "        return f\"{(0 / 1) :.2f}\"\n",
    "    x, y = map(int, value.split(' / '))\n",
    "    return f\"{(x / y) :.2f}\"\n",
    "\n",
    "# Mapping function\n",
    "def get_advantage(xvy):\n",
    "    x, y = map(int, xvy.split('v'))\n",
    "    return f\"+{x - y}\" if x - y > 0 else f\"{x - y}\""
   ]
  },
  {
   "cell_type": "markdown",
   "id": "23e59679",
   "metadata": {},
   "source": [
    "## Scraping the Data\n",
    "\n",
    "#### Pistol Rounds, First Kills, Clutch%"
   ]
  },
  {
   "cell_type": "code",
   "execution_count": 5,
   "id": "e554ffd4",
   "metadata": {},
   "outputs": [],
   "source": [
    "def scrape_main_data(driver, teams):\n",
    "    all_stats = {}\n",
    "\n",
    "    # Find all stat categories\n",
    "    stat_names = driver.find_elements(By.XPATH, \"//div[contains(text(), 'Pistol Rounds Won') or contains(text(), 'First Kills') or contains(text(), 'KAST') or contains(text(), 'Clutches')]\")\n",
    "\n",
    "    for stat in stat_names:\n",
    "        stat_name = stat.text\n",
    "\n",
    "        try:\n",
    "            # Look for numerical values in adjacent elements\n",
    "            team1_value_elements = stat.find_elements(By.XPATH, \"./preceding-sibling::div[contains(@class, 'css-') and string-length(text()) > 0]\")\n",
    "            team2_value_elements = stat.find_elements(By.XPATH, \"./following-sibling::div[contains(@class, 'css-') and string-length(text()) > 0]\")\n",
    "\n",
    "            all_stats[stat_name] = [team1_value_elements[0].text.strip().replace('%', '').replace('.', ''), team2_value_elements[0].text.strip().replace('%', '').replace('.', '')]\n",
    "        \n",
    "        except Exception as e:\n",
    "            print(f\"Error extracting {stat_name}: {e}\")\n",
    "\n",
    "    # Create a DataFrame\n",
    "    if all_stats and len(teams) == 2:\n",
    "        main_df = pd.DataFrame.from_dict(all_stats, orient='index', columns=teams).transpose()\n",
    "        print(main_df)\n",
    "\n",
    "        # Converting the clutches into percentages\n",
    "        main_df[\"Clutches\"] = main_df[\"Clutches\"].str.split(\" / \").apply(lambda x: int(x[0]) / int(x[1]) if int(x[1]) != 0 else 0)\n",
    "        main_df['KAST'] = main_df['KAST'].astype('float').div(100)\n",
    "\n",
    "    else:\n",
    "        print(\"Failed to extract meaningful stat data\")\n",
    "\n",
    "    return main_df"
   ]
  },
  {
   "cell_type": "code",
   "execution_count": null,
   "id": "33f182ee",
   "metadata": {},
   "outputs": [
    {
     "name": "stdout",
     "output_type": "stream",
     "text": [
      "Teams detected: ['G2 Esports', 'Cloud9']\n",
      "Results detected: ['Winner', 'Loser']\n",
      "           Pistol Rounds Won First Kills KAST Clutches\n",
      "G2 Esports                 3          26   80   3 / 15\n",
      "Cloud9                     1          14   59   3 / 28\n"
     ]
    },
    {
     "data": {
      "text/html": [
       "<div>\n",
       "<style scoped>\n",
       "    .dataframe tbody tr th:only-of-type {\n",
       "        vertical-align: middle;\n",
       "    }\n",
       "\n",
       "    .dataframe tbody tr th {\n",
       "        vertical-align: top;\n",
       "    }\n",
       "\n",
       "    .dataframe thead th {\n",
       "        text-align: right;\n",
       "    }\n",
       "</style>\n",
       "<table border=\"1\" class=\"dataframe\">\n",
       "  <thead>\n",
       "    <tr style=\"text-align: right;\">\n",
       "      <th></th>\n",
       "      <th>Pistol Rounds Won</th>\n",
       "      <th>First Kills</th>\n",
       "      <th>KAST</th>\n",
       "      <th>Clutches</th>\n",
       "    </tr>\n",
       "  </thead>\n",
       "  <tbody>\n",
       "    <tr>\n",
       "      <th>G2 Esports</th>\n",
       "      <td>3</td>\n",
       "      <td>26</td>\n",
       "      <td>0.80</td>\n",
       "      <td>0.200000</td>\n",
       "    </tr>\n",
       "    <tr>\n",
       "      <th>Cloud9</th>\n",
       "      <td>1</td>\n",
       "      <td>14</td>\n",
       "      <td>0.59</td>\n",
       "      <td>0.107143</td>\n",
       "    </tr>\n",
       "  </tbody>\n",
       "</table>\n",
       "</div>"
      ],
      "text/plain": [
       "           Pistol Rounds Won First Kills  KAST  Clutches\n",
       "G2 Esports                 3          26  0.80  0.200000\n",
       "Cloud9                     1          14  0.59  0.107143"
      ]
     },
     "execution_count": 6,
     "metadata": {},
     "output_type": "execute_result"
    }
   ],
   "source": [
    "url = \"https://www.rib.gg/series/83355?tab=team-stats\"\n",
    "driver = uc.Chrome(version_main=135)\n",
    "driver.get(url)\n",
    "\n",
    "# Extract the team names\n",
    "team_elements = driver.find_elements(By.XPATH, \"//p[contains(@class, 'css-1aujtoy') and string-length(text()) > 0]\")\n",
    "teams = [team.text.strip() for team in team_elements if len(team.text.strip()) > 0][:2]  # Extract first two team names\n",
    "print(f\"Teams detected: {teams}\")\n",
    "\n",
    "main_df = scrape_main_data(driver, teams)\n",
    "driver.quit()\n",
    "\n",
    "main_df"
   ]
  },
  {
   "cell_type": "markdown",
   "id": "9a9ba056",
   "metadata": {},
   "source": [
    "#### Economy Data"
   ]
  },
  {
   "cell_type": "code",
   "execution_count": 8,
   "id": "4127fa02",
   "metadata": {},
   "outputs": [],
   "source": [
    "def scrape_eco_data(driver, teams):\n",
    "    all_stats = {}\n",
    "\n",
    "    # Find all stat categories\n",
    "    stat_names = driver.find_elements(By.XPATH, \"//div[text()='Eco' or text()='Semi-Eco' or text()='Half-Buy' or text()='Full-Buy']\")\n",
    "\n",
    "    for stat in stat_names:\n",
    "        stat_name = stat.text\n",
    "    #     print(f\"\\nFound stat: {stat_name}\")\n",
    "\n",
    "        try:\n",
    "            # Look for numerical values in adjacent elements\n",
    "            team1_value_elements = stat.find_elements(By.XPATH, \"./parent::div/preceding-sibling::div/child::div[contains(@class, 'css-') and string-length(text()) > 0]\")\n",
    "            team2_value_elements = stat.find_elements(By.XPATH, \"./parent::div/following-sibling::div/child::div[contains(@class, 'css-') and string-length(text()) > 0]\")\n",
    "\n",
    "            all_stats[stat_name] = [team1_value_elements[0].text.strip().replace('%', '').replace('.', '').replace('-', '0'), team2_value_elements[0].text.strip().replace('%', '').replace('.', '').replace('-', '0')]\n",
    "        \n",
    "        except Exception as e:\n",
    "            print(f\"Error extracting {stat_name}: {e}\")\n",
    "\n",
    "    # Create a DataFrame\n",
    "    if all_stats and len(teams) == 2:\n",
    "        eco_df = pd.DataFrame.from_dict(all_stats, orient='index', columns=teams).transpose()\n",
    "        eco_df = eco_df.astype('float').div(100) # Transpose and divide by 100 to turn percentages into decimals\n",
    "    else:\n",
    "        print(\"Failed to extract meaningful stat data\")\n",
    "    \n",
    "    return eco_df\n",
    "    "
   ]
  },
  {
   "cell_type": "code",
   "execution_count": null,
   "id": "49409744",
   "metadata": {},
   "outputs": [
    {
     "name": "stdout",
     "output_type": "stream",
     "text": [
      "Teams detected: ['G2 Esports', 'Cloud9']\n",
      "Results detected: ['Winner', 'Loser']\n"
     ]
    },
    {
     "data": {
      "text/html": [
       "<div>\n",
       "<style scoped>\n",
       "    .dataframe tbody tr th:only-of-type {\n",
       "        vertical-align: middle;\n",
       "    }\n",
       "\n",
       "    .dataframe tbody tr th {\n",
       "        vertical-align: top;\n",
       "    }\n",
       "\n",
       "    .dataframe thead th {\n",
       "        text-align: right;\n",
       "    }\n",
       "</style>\n",
       "<table border=\"1\" class=\"dataframe\">\n",
       "  <thead>\n",
       "    <tr style=\"text-align: right;\">\n",
       "      <th></th>\n",
       "      <th>Eco</th>\n",
       "      <th>Semi-Eco</th>\n",
       "      <th>Half-Buy</th>\n",
       "      <th>Full-Buy</th>\n",
       "    </tr>\n",
       "  </thead>\n",
       "  <tbody>\n",
       "    <tr>\n",
       "      <th>G2 Esports</th>\n",
       "      <td>0.0</td>\n",
       "      <td>0.0</td>\n",
       "      <td>0.64</td>\n",
       "      <td>0.67</td>\n",
       "    </tr>\n",
       "    <tr>\n",
       "      <th>Cloud9</th>\n",
       "      <td>0.0</td>\n",
       "      <td>0.0</td>\n",
       "      <td>0.20</td>\n",
       "      <td>0.52</td>\n",
       "    </tr>\n",
       "  </tbody>\n",
       "</table>\n",
       "</div>"
      ],
      "text/plain": [
       "            Eco  Semi-Eco  Half-Buy  Full-Buy\n",
       "G2 Esports  0.0       0.0      0.64      0.67\n",
       "Cloud9      0.0       0.0      0.20      0.52"
      ]
     },
     "execution_count": 99,
     "metadata": {},
     "output_type": "execute_result"
    }
   ],
   "source": [
    "url = \"https://www.rib.gg/series/83355?tab=team-stats\"\n",
    "driver = uc.Chrome(version_main=135)\n",
    "driver.get(url)\n",
    "\n",
    "# Extract the team names\n",
    "team_elements = driver.find_elements(By.XPATH, \"//p[contains(@class, 'css-1aujtoy') and string-length(text()) > 0]\")\n",
    "teams = [team.text.strip() for team in team_elements if len(team.text.strip()) > 0][:2]  # Extract first two team names\n",
    "print(f\"Teams detected: {teams}\")\n",
    "\n",
    "eco_df = scrape_eco_data(driver, teams)\n",
    "driver.quit()\n",
    "\n",
    "eco_df"
   ]
  },
  {
   "cell_type": "markdown",
   "id": "19b66107",
   "metadata": {},
   "source": [
    "#### XvY Conversions"
   ]
  },
  {
   "cell_type": "code",
   "execution_count": 10,
   "id": "3da74085",
   "metadata": {},
   "outputs": [],
   "source": [
    "def scrape_xvy_data(driver, teams):\n",
    "    all_stats = {}\n",
    "\n",
    "    # Find all stat categories\n",
    "    stat_names = driver.find_elements(By.XPATH, \"//div[contains(text(), '5v4') or contains(text(), '4v5') or contains(text(), '4v4') or contains(text(), '4v3') or contains(text(), '3v4') or contains(text(), '3v3') or contains(text(), '5v3') or contains(text(), '3v5') or contains(text(), '3v2') or contains(text(), '2v3') or contains(text(), '4v2') or contains(text(), '2v4') or contains(text(), '2v2') or contains(text(), '3v1') or contains(text(), '1v3') or contains(text(), '1v1') or contains(text(), '2v1') or contains(text(), '1v2') or contains(text(), '1v4') or contains(text(), '4v1') or contains(text(), '5v2') or contains(text(), '2v5') or contains(text(), '5v1') or contains(text(), '1v5')]\")\n",
    "\n",
    "    for stat in stat_names:\n",
    "        stat_name = stat.text\n",
    "\n",
    "        try:\n",
    "            # Look for numerical values in adjacent elements\n",
    "            team1_value_elements = stat.find_elements(By.XPATH, \"./parent::div/parent::div/preceding-sibling::div[contains(@class, 'css-') and string-length(text()) > 0]\")\n",
    "            team2_value_elements = stat.find_elements(By.XPATH, \"./parent::div/parent::div/following-sibling::div[contains(@class, 'css-') and string-length(text()) > 0]\")\n",
    "\n",
    "            all_stats[stat_name] = [team1_value_elements[0].text.strip().replace('%', '').replace('.', ''), team2_value_elements[0].text.strip().replace('%', '').replace('.', '')]\n",
    "\n",
    "        except Exception as e:\n",
    "            print(f\"Error extracting {stat_name}: {e}\")\n",
    "\n",
    "    # Create a DataFrame\n",
    "    if all_stats and len(teams) == 2:\n",
    "        xvy_df = pd.DataFrame.from_dict(all_stats, orient='index', columns=teams).transpose()\n",
    "\n",
    "        # Apply transformation to all columns except 'Team'\n",
    "        for col in xvy_df.columns:  \n",
    "            xvy_df[col] = xvy_df[col].apply(to_percentage)\n",
    "\n",
    "        xvy_df = xvy_df.astype('float')\n",
    "        \n",
    "        # Creating the new aggregated df\n",
    "        # eg: 2v4, 1v3, and 3v5 all get aggregated into \"+2\"\n",
    "        agg_data = {}\n",
    "        counts = {}\n",
    "\n",
    "        for col in xvy_df.columns:\n",
    "            category = get_advantage(col)\n",
    "            if category not in agg_data:\n",
    "                agg_data[category] = xvy_df[col].copy()\n",
    "                counts[category] = 1\n",
    "            else:\n",
    "                agg_data[category] += xvy_df[col]\n",
    "                counts[category] += 1\n",
    "\n",
    "        xvy_df = pd.DataFrame({key: agg_data[key] / counts[key] for key in agg_data})\n",
    "\n",
    "    else:\n",
    "        print(\"Failed to extract meaningful stat data\")\n",
    "\n",
    "    return xvy_df"
   ]
  },
  {
   "cell_type": "code",
   "execution_count": null,
   "id": "95034fe4",
   "metadata": {},
   "outputs": [
    {
     "name": "stdout",
     "output_type": "stream",
     "text": [
      "Teams detected: ['G2 Esports', 'Cloud9']\n",
      "Results detected: ['Winner', 'Loser']\n"
     ]
    },
    {
     "data": {
      "text/html": [
       "<div>\n",
       "<style scoped>\n",
       "    .dataframe tbody tr th:only-of-type {\n",
       "        vertical-align: middle;\n",
       "    }\n",
       "\n",
       "    .dataframe tbody tr th {\n",
       "        vertical-align: top;\n",
       "    }\n",
       "\n",
       "    .dataframe thead th {\n",
       "        text-align: right;\n",
       "    }\n",
       "</style>\n",
       "<table border=\"1\" class=\"dataframe\">\n",
       "  <thead>\n",
       "    <tr style=\"text-align: right;\">\n",
       "      <th></th>\n",
       "      <th>+1</th>\n",
       "      <th>-1</th>\n",
       "      <th>0</th>\n",
       "      <th>+2</th>\n",
       "      <th>-2</th>\n",
       "      <th>-3</th>\n",
       "      <th>+3</th>\n",
       "      <th>+4</th>\n",
       "      <th>-4</th>\n",
       "    </tr>\n",
       "  </thead>\n",
       "  <tbody>\n",
       "    <tr>\n",
       "      <th>G2 Esports</th>\n",
       "      <td>0.8975</td>\n",
       "      <td>0.3525</td>\n",
       "      <td>0.5925</td>\n",
       "      <td>1.00</td>\n",
       "      <td>0.11</td>\n",
       "      <td>0.0</td>\n",
       "      <td>1.0</td>\n",
       "      <td>1.0</td>\n",
       "      <td>0.0</td>\n",
       "    </tr>\n",
       "    <tr>\n",
       "      <th>Cloud9</th>\n",
       "      <td>0.6475</td>\n",
       "      <td>0.1025</td>\n",
       "      <td>0.4075</td>\n",
       "      <td>0.89</td>\n",
       "      <td>0.00</td>\n",
       "      <td>0.0</td>\n",
       "      <td>0.5</td>\n",
       "      <td>0.0</td>\n",
       "      <td>0.0</td>\n",
       "    </tr>\n",
       "  </tbody>\n",
       "</table>\n",
       "</div>"
      ],
      "text/plain": [
       "                +1      -1       0    +2    -2   -3   +3   +4   -4\n",
       "G2 Esports  0.8975  0.3525  0.5925  1.00  0.11  0.0  1.0  1.0  0.0\n",
       "Cloud9      0.6475  0.1025  0.4075  0.89  0.00  0.0  0.5  0.0  0.0"
      ]
     },
     "execution_count": 96,
     "metadata": {},
     "output_type": "execute_result"
    }
   ],
   "source": [
    "url = \"https://www.rib.gg/series/83355?tab=team-stats\"\n",
    "driver = uc.Chrome(version_main=135)\n",
    "driver.get(url)\n",
    "\n",
    "# Extract the team names\n",
    "team_elements = driver.find_elements(By.XPATH, \"//p[contains(@class, 'css-1aujtoy') and string-length(text()) > 0]\")\n",
    "teams = [team.text.strip() for team in team_elements if len(team.text.strip()) > 0][:2]  # Extract first two team names\n",
    "print(f\"Teams detected: {teams}\")\n",
    "\n",
    "xvy_df = scrape_xvy_data(driver, teams)\n",
    "driver.quit()\n",
    "\n",
    "xvy_df"
   ]
  },
  {
   "cell_type": "markdown",
   "id": "2d4b26b2",
   "metadata": {},
   "source": [
    "---\n",
    "### Aggregating all the data into one df"
   ]
  },
  {
   "cell_type": "code",
   "execution_count": null,
   "id": "6a552014",
   "metadata": {},
   "outputs": [],
   "source": [
    "def scrape_data(match_id):\n",
    "    url = f\"https://www.rib.gg/series/{match_id}?tab=team-stats\"\n",
    "    driver = uc.Chrome(version_main=135)\n",
    "    driver.get(url)\n",
    "\n",
    "    print(\"Waiting for page to load...\")\n",
    "    # time.sleep(5)  # Give the page time to fully load\n",
    "\n",
    "    # Extract the team names\n",
    "    team_elements = driver.find_elements(By.XPATH, \"//p[contains(@class, 'css-1aujtoy') and string-length(text()) > 0]\")\n",
    "    teams = [team.text.strip() for team in team_elements if len(team.text.strip()) > 0][:2]  # Extract first two team names\n",
    "\n",
    "    print(f\"Teams detected: {teams}\")\n",
    "\n",
    "    result_elements = driver.find_elements(By.XPATH, \"//p[contains(@class, 'css-tesx4r') or contains(@class, 'css-hov9j3') and string-length(text()) > 0]\")\n",
    "    results = [result.text.strip() for result in result_elements if len(result.text.strip()) > 0][:2]  # Extract the win and loss results\n",
    "\n",
    "    print(f\"Results detected: {results}\")\n",
    "\n",
    "    # PISTOL ROUNDS, FIRST KILLS, KAST #\n",
    "    main_df = scrape_main_data(driver, teams)\n",
    "\n",
    "    # ECO INFORMATION #\n",
    "    eco_df = scrape_eco_data(driver, teams)\n",
    "\n",
    "    # XVY CONVERSIONS #\n",
    "    xvy_df = scrape_xvy_data(driver, teams)\n",
    "    \n",
    "    driver.quit()\n",
    "    \n",
    "    # CONCATINATING THE DATAFRAMES #\n",
    "    df = pd.concat([main_df, eco_df, xvy_df], axis=1)\n",
    "    df = df.reset_index(drop=True)\n",
    "\n",
    "    df.insert(0, \"Team\", teams)  # Ensure \"Team\" is always the first column\n",
    "\n",
    "    # Copy stats from row 1 to row 0 and vice versa for opponent fields\n",
    "    df.loc[0, 'Pistol Rounds Won Opp'], df.loc[1, 'Pistol Rounds Won Opp'] = df.loc[1, 'Pistol Rounds Won'], df.loc[0, 'Pistol Rounds Won']\n",
    "    df.loc[0, 'First Kills Opp'], df.loc[1, 'First Kills Opp'] = df.loc[1, 'First Kills'], df.loc[0, 'First Kills']\n",
    "    df.loc[0, 'KAST Opp'], df.loc[1, 'KAST Opp'] = df.loc[1, 'KAST'], df.loc[0, 'KAST']\n",
    "    df.loc[0, 'Clutches Opp'], df.loc[1, 'Clutches Opp'] = df.loc[1, 'Clutches'], df.loc[0, 'Clutches']\n",
    "    df.loc[0, 'Eco Opp'], df.loc[1, 'Eco Opp'] = df.loc[1, 'Eco'], df.loc[0, 'Eco']\n",
    "    df.loc[0, 'Semi-Eco Opp'], df.loc[1, 'Semi-Eco Opp'] = df.loc[1, 'Semi-Eco'], df.loc[0, 'Semi-Eco']\n",
    "    df.loc[0, 'Half-Buy Opp'], df.loc[1, 'Half-Buy Opp'] = df.loc[1, 'Half-Buy'], df.loc[0, 'Half-Buy']\n",
    "    df.loc[0, 'Full-Buy Opp'], df.loc[1, 'Full-Buy Opp'] = df.loc[1, 'Full-Buy'], df.loc[0, 'Full-Buy']\n",
    "    df.loc[0, '+1 Opp'], df.loc[1, '+1 Opp'] = df.loc[1, '+1'], df.loc[0, '+1']\n",
    "    df.loc[0, '-1 Opp'], df.loc[1, '-1 Opp'] = df.loc[1, '-1'], df.loc[0, '-1']\n",
    "    df.loc[0, '0 Opp'], df.loc[1, '0 Opp'] = df.loc[1, '0'], df.loc[0, '0']\n",
    "    df.loc[0, '+2 Opp'], df.loc[1, '+2 Opp'] = df.loc[1, '+2'], df.loc[0, '+2']\n",
    "    df.loc[0, '-2 Opp'], df.loc[1, '-2 Opp'] = df.loc[1, '-2'], df.loc[0, '-2']\n",
    "    df.loc[0, '-3 Opp'], df.loc[1, '-3 Opp'] = df.loc[1, '-3'], df.loc[0, '-3']\n",
    "    df.loc[0, '+3 Opp'], df.loc[1, '+3 Opp'] = df.loc[1, '+3'], df.loc[0, '+3']\n",
    "    try:\n",
    "        df.loc[0, '+4 Opp'], df.loc[1, '+4 Opp'] = df.loc[1, '+4'], df.loc[0, '+4']\n",
    "    except KeyError:\n",
    "        print(\"Column '+4' not found, setting default values.\")\n",
    "        df.loc[0, '+4 Opp'], df.loc[1, '+4 Opp'] = 1.0, 1.0  # Default values\n",
    "\n",
    "    try:\n",
    "        df.loc[0, '-4 Opp'], df.loc[1, '-4 Opp'] = df.loc[1, '-4'], df.loc[0, '-4']\n",
    "    except KeyError:\n",
    "        print(\"Column '-4' not found, setting default values.\")\n",
    "        df.loc[0, '-4 Opp'], df.loc[1, '-4 Opp'] = 0.0, 0.0  # Default values\n",
    "\n",
    "    # Map results based on teams\n",
    "    df[\"Result\"] = df[\"Team\"].map(dict(zip(teams, [1 if r == \"Winner\" else 0 for r in results])))\n",
    "\n",
    "    return df"
   ]
  },
  {
   "cell_type": "code",
   "execution_count": null,
   "id": "ba9ffb79",
   "metadata": {},
   "outputs": [],
   "source": [
    "match_id = \"83360\" # Choose the Match ID from rib.gg\n",
    "url = f\"https://www.rib.gg/series/{match_id}?tab=team-stats\""
   ]
  },
  {
   "cell_type": "code",
   "execution_count": 13,
   "id": "2cc147a8",
   "metadata": {
    "scrolled": true
   },
   "outputs": [
    {
     "name": "stdout",
     "output_type": "stream",
     "text": [
      "Waiting for page to load...\n",
      "Teams detected: ['TALON', 'Gen.G Esports']\n",
      "Results detected: ['Loser', 'Winner']\n",
      "              Pistol Rounds Won First Kills KAST Clutches\n",
      "TALON                         3          26   64   2 / 32\n",
      "Gen.G Esports                 3          27   72   2 / 23\n"
     ]
    },
    {
     "data": {
      "text/html": [
       "<div>\n",
       "<style scoped>\n",
       "    .dataframe tbody tr th:only-of-type {\n",
       "        vertical-align: middle;\n",
       "    }\n",
       "\n",
       "    .dataframe tbody tr th {\n",
       "        vertical-align: top;\n",
       "    }\n",
       "\n",
       "    .dataframe thead th {\n",
       "        text-align: right;\n",
       "    }\n",
       "</style>\n",
       "<table border=\"1\" class=\"dataframe\">\n",
       "  <thead>\n",
       "    <tr style=\"text-align: right;\">\n",
       "      <th></th>\n",
       "      <th>Team</th>\n",
       "      <th>Pistol Rounds Won</th>\n",
       "      <th>First Kills</th>\n",
       "      <th>KAST</th>\n",
       "      <th>Clutches</th>\n",
       "      <th>Eco</th>\n",
       "      <th>Semi-Eco</th>\n",
       "      <th>Half-Buy</th>\n",
       "      <th>Full-Buy</th>\n",
       "      <th>+1</th>\n",
       "      <th>...</th>\n",
       "      <th>+1 Opp</th>\n",
       "      <th>-1 Opp</th>\n",
       "      <th>0 Opp</th>\n",
       "      <th>+2 Opp</th>\n",
       "      <th>-2 Opp</th>\n",
       "      <th>-3 Opp</th>\n",
       "      <th>+3 Opp</th>\n",
       "      <th>+4 Opp</th>\n",
       "      <th>-4 Opp</th>\n",
       "      <th>Result</th>\n",
       "    </tr>\n",
       "  </thead>\n",
       "  <tbody>\n",
       "    <tr>\n",
       "      <th>0</th>\n",
       "      <td>TALON</td>\n",
       "      <td>3</td>\n",
       "      <td>26</td>\n",
       "      <td>0.64</td>\n",
       "      <td>0.062500</td>\n",
       "      <td>0.0</td>\n",
       "      <td>0.0</td>\n",
       "      <td>0.36</td>\n",
       "      <td>0.50</td>\n",
       "      <td>0.7775</td>\n",
       "      <td>...</td>\n",
       "      <td>0.7200</td>\n",
       "      <td>0.2225</td>\n",
       "      <td>0.385</td>\n",
       "      <td>0.9</td>\n",
       "      <td>0.0</td>\n",
       "      <td>0.0</td>\n",
       "      <td>1.0</td>\n",
       "      <td>0.0</td>\n",
       "      <td>0.0</td>\n",
       "      <td>0</td>\n",
       "    </tr>\n",
       "    <tr>\n",
       "      <th>1</th>\n",
       "      <td>Gen.G Esports</td>\n",
       "      <td>3</td>\n",
       "      <td>27</td>\n",
       "      <td>0.72</td>\n",
       "      <td>0.086957</td>\n",
       "      <td>0.0</td>\n",
       "      <td>0.0</td>\n",
       "      <td>0.62</td>\n",
       "      <td>0.68</td>\n",
       "      <td>0.7200</td>\n",
       "      <td>...</td>\n",
       "      <td>0.7775</td>\n",
       "      <td>0.2800</td>\n",
       "      <td>0.615</td>\n",
       "      <td>1.0</td>\n",
       "      <td>0.1</td>\n",
       "      <td>0.0</td>\n",
       "      <td>1.0</td>\n",
       "      <td>1.0</td>\n",
       "      <td>0.0</td>\n",
       "      <td>1</td>\n",
       "    </tr>\n",
       "  </tbody>\n",
       "</table>\n",
       "<p>2 rows × 36 columns</p>\n",
       "</div>"
      ],
      "text/plain": [
       "            Team Pistol Rounds Won First Kills  KAST  Clutches  Eco  Semi-Eco  \\\n",
       "0          TALON                 3          26  0.64  0.062500  0.0       0.0   \n",
       "1  Gen.G Esports                 3          27  0.72  0.086957  0.0       0.0   \n",
       "\n",
       "   Half-Buy  Full-Buy      +1  ...  +1 Opp  -1 Opp  0 Opp  +2 Opp  -2 Opp  \\\n",
       "0      0.36      0.50  0.7775  ...  0.7200  0.2225  0.385     0.9     0.0   \n",
       "1      0.62      0.68  0.7200  ...  0.7775  0.2800  0.615     1.0     0.1   \n",
       "\n",
       "   -3 Opp  +3 Opp  +4 Opp -4 Opp Result  \n",
       "0     0.0     1.0     0.0    0.0      0  \n",
       "1     0.0     1.0     1.0    0.0      1  \n",
       "\n",
       "[2 rows x 36 columns]"
      ]
     },
     "execution_count": 13,
     "metadata": {},
     "output_type": "execute_result"
    }
   ],
   "source": [
    "match_id = 89294\n",
    "df = scrape_data(match_id)\n",
    "df"
   ]
  },
  {
   "cell_type": "code",
   "execution_count": 14,
   "id": "5194b8ec",
   "metadata": {},
   "outputs": [],
   "source": [
    "temp_df = df.copy()"
   ]
  },
  {
   "cell_type": "code",
   "execution_count": 77,
   "id": "de183072",
   "metadata": {},
   "outputs": [],
   "source": [
    "temp_df = pd.concat([temp_df, df], ignore_index=True)"
   ]
  },
  {
   "cell_type": "code",
   "execution_count": 78,
   "id": "1529ae9c",
   "metadata": {},
   "outputs": [
    {
     "data": {
      "text/html": [
       "<div>\n",
       "<style scoped>\n",
       "    .dataframe tbody tr th:only-of-type {\n",
       "        vertical-align: middle;\n",
       "    }\n",
       "\n",
       "    .dataframe tbody tr th {\n",
       "        vertical-align: top;\n",
       "    }\n",
       "\n",
       "    .dataframe thead th {\n",
       "        text-align: right;\n",
       "    }\n",
       "</style>\n",
       "<table border=\"1\" class=\"dataframe\">\n",
       "  <thead>\n",
       "    <tr style=\"text-align: right;\">\n",
       "      <th></th>\n",
       "      <th>Team</th>\n",
       "      <th>Pistol Rounds Won</th>\n",
       "      <th>First Kills</th>\n",
       "      <th>KAST</th>\n",
       "      <th>Clutches</th>\n",
       "      <th>Eco</th>\n",
       "      <th>Semi-Eco</th>\n",
       "      <th>Half-Buy</th>\n",
       "      <th>Full-Buy</th>\n",
       "      <th>+1</th>\n",
       "      <th>...</th>\n",
       "      <th>+1 Opp</th>\n",
       "      <th>-1 Opp</th>\n",
       "      <th>0 Opp</th>\n",
       "      <th>+2 Opp</th>\n",
       "      <th>-2 Opp</th>\n",
       "      <th>-3 Opp</th>\n",
       "      <th>+3 Opp</th>\n",
       "      <th>+4 Opp</th>\n",
       "      <th>-4 Opp</th>\n",
       "      <th>Result</th>\n",
       "    </tr>\n",
       "  </thead>\n",
       "  <tbody>\n",
       "    <tr>\n",
       "      <th>0</th>\n",
       "      <td>G2 Esports</td>\n",
       "      <td>3</td>\n",
       "      <td>26</td>\n",
       "      <td>0.80</td>\n",
       "      <td>0.200000</td>\n",
       "      <td>0.0</td>\n",
       "      <td>0.0</td>\n",
       "      <td>0.64</td>\n",
       "      <td>0.67</td>\n",
       "      <td>0.8975</td>\n",
       "      <td>...</td>\n",
       "      <td>0.6475</td>\n",
       "      <td>0.1025</td>\n",
       "      <td>0.4075</td>\n",
       "      <td>0.89</td>\n",
       "      <td>0.00</td>\n",
       "      <td>0.0</td>\n",
       "      <td>0.5</td>\n",
       "      <td>0.0</td>\n",
       "      <td>0.0</td>\n",
       "      <td>1</td>\n",
       "    </tr>\n",
       "    <tr>\n",
       "      <th>1</th>\n",
       "      <td>Cloud9</td>\n",
       "      <td>1</td>\n",
       "      <td>14</td>\n",
       "      <td>0.59</td>\n",
       "      <td>0.107143</td>\n",
       "      <td>0.0</td>\n",
       "      <td>0.0</td>\n",
       "      <td>0.20</td>\n",
       "      <td>0.52</td>\n",
       "      <td>0.6475</td>\n",
       "      <td>...</td>\n",
       "      <td>0.8975</td>\n",
       "      <td>0.3525</td>\n",
       "      <td>0.5925</td>\n",
       "      <td>1.00</td>\n",
       "      <td>0.11</td>\n",
       "      <td>0.0</td>\n",
       "      <td>1.0</td>\n",
       "      <td>1.0</td>\n",
       "      <td>0.0</td>\n",
       "      <td>0</td>\n",
       "    </tr>\n",
       "    <tr>\n",
       "      <th>2</th>\n",
       "      <td>G2 Esports</td>\n",
       "      <td>3</td>\n",
       "      <td>26</td>\n",
       "      <td>0.80</td>\n",
       "      <td>0.200000</td>\n",
       "      <td>0.0</td>\n",
       "      <td>0.0</td>\n",
       "      <td>0.64</td>\n",
       "      <td>0.67</td>\n",
       "      <td>0.8975</td>\n",
       "      <td>...</td>\n",
       "      <td>0.6475</td>\n",
       "      <td>0.1025</td>\n",
       "      <td>0.4075</td>\n",
       "      <td>0.89</td>\n",
       "      <td>0.00</td>\n",
       "      <td>0.0</td>\n",
       "      <td>0.5</td>\n",
       "      <td>0.0</td>\n",
       "      <td>0.0</td>\n",
       "      <td>1</td>\n",
       "    </tr>\n",
       "    <tr>\n",
       "      <th>3</th>\n",
       "      <td>Cloud9</td>\n",
       "      <td>1</td>\n",
       "      <td>14</td>\n",
       "      <td>0.59</td>\n",
       "      <td>0.107143</td>\n",
       "      <td>0.0</td>\n",
       "      <td>0.0</td>\n",
       "      <td>0.20</td>\n",
       "      <td>0.52</td>\n",
       "      <td>0.6475</td>\n",
       "      <td>...</td>\n",
       "      <td>0.8975</td>\n",
       "      <td>0.3525</td>\n",
       "      <td>0.5925</td>\n",
       "      <td>1.00</td>\n",
       "      <td>0.11</td>\n",
       "      <td>0.0</td>\n",
       "      <td>1.0</td>\n",
       "      <td>1.0</td>\n",
       "      <td>0.0</td>\n",
       "      <td>0</td>\n",
       "    </tr>\n",
       "  </tbody>\n",
       "</table>\n",
       "<p>4 rows × 36 columns</p>\n",
       "</div>"
      ],
      "text/plain": [
       "         Team Pistol Rounds Won First Kills  KAST  Clutches  Eco  Semi-Eco  \\\n",
       "0  G2 Esports                 3          26  0.80  0.200000  0.0       0.0   \n",
       "1      Cloud9                 1          14  0.59  0.107143  0.0       0.0   \n",
       "2  G2 Esports                 3          26  0.80  0.200000  0.0       0.0   \n",
       "3      Cloud9                 1          14  0.59  0.107143  0.0       0.0   \n",
       "\n",
       "   Half-Buy  Full-Buy      +1  ...  +1 Opp  -1 Opp   0 Opp  +2 Opp  -2 Opp  \\\n",
       "0      0.64      0.67  0.8975  ...  0.6475  0.1025  0.4075    0.89    0.00   \n",
       "1      0.20      0.52  0.6475  ...  0.8975  0.3525  0.5925    1.00    0.11   \n",
       "2      0.64      0.67  0.8975  ...  0.6475  0.1025  0.4075    0.89    0.00   \n",
       "3      0.20      0.52  0.6475  ...  0.8975  0.3525  0.5925    1.00    0.11   \n",
       "\n",
       "   -3 Opp  +3 Opp  +4 Opp -4 Opp Result  \n",
       "0     0.0     0.5     0.0    0.0      1  \n",
       "1     0.0     1.0     1.0    0.0      0  \n",
       "2     0.0     0.5     0.0    0.0      1  \n",
       "3     0.0     1.0     1.0    0.0      0  \n",
       "\n",
       "[4 rows x 36 columns]"
      ]
     },
     "execution_count": 78,
     "metadata": {},
     "output_type": "execute_result"
    }
   ],
   "source": [
    "temp_df"
   ]
  },
  {
   "cell_type": "code",
   "execution_count": 15,
   "id": "80a6c01e",
   "metadata": {},
   "outputs": [
    {
     "ename": "KeyboardInterrupt",
     "evalue": "",
     "output_type": "error",
     "traceback": [
      "\u001b[1;31m---------------------------------------------------------------------------\u001b[0m",
      "\u001b[1;31mKeyboardInterrupt\u001b[0m                         Traceback (most recent call last)",
      "Cell \u001b[1;32mIn[15], line 5\u001b[0m\n\u001b[0;32m      2\u001b[0m match_ids \u001b[38;5;241m=\u001b[39m [\u001b[38;5;241m89295\u001b[39m, \u001b[38;5;241m89296\u001b[39m, \u001b[38;5;241m89297\u001b[39m, \u001b[38;5;241m89298\u001b[39m, \u001b[38;5;241m89299\u001b[39m, \u001b[38;5;241m89367\u001b[39m, \u001b[38;5;241m89368\u001b[39m, \u001b[38;5;241m89366\u001b[39m, \u001b[38;5;241m89737\u001b[39m, \u001b[38;5;241m89921\u001b[39m, \u001b[38;5;241m89922\u001b[39m]\n\u001b[0;32m      4\u001b[0m \u001b[38;5;28;01mfor\u001b[39;00m match_id \u001b[38;5;129;01min\u001b[39;00m match_ids:\n\u001b[1;32m----> 5\u001b[0m     df \u001b[38;5;241m=\u001b[39m scrape_data(match_id)\n\u001b[0;32m      6\u001b[0m     temp_df \u001b[38;5;241m=\u001b[39m pd\u001b[38;5;241m.\u001b[39mconcat([temp_df, df], ignore_index\u001b[38;5;241m=\u001b[39m\u001b[38;5;28;01mTrue\u001b[39;00m)\n\u001b[0;32m      8\u001b[0m temp_df\n",
      "Cell \u001b[1;32mIn[11], line 3\u001b[0m, in \u001b[0;36mscrape_data\u001b[1;34m(match_id)\u001b[0m\n\u001b[0;32m      1\u001b[0m \u001b[38;5;28;01mdef\u001b[39;00m \u001b[38;5;21mscrape_data\u001b[39m(match_id):\n\u001b[0;32m      2\u001b[0m     url \u001b[38;5;241m=\u001b[39m \u001b[38;5;124mf\u001b[39m\u001b[38;5;124m\"\u001b[39m\u001b[38;5;124mhttps://www.rib.gg/series/\u001b[39m\u001b[38;5;132;01m{\u001b[39;00mmatch_id\u001b[38;5;132;01m}\u001b[39;00m\u001b[38;5;124m?tab=team-stats\u001b[39m\u001b[38;5;124m\"\u001b[39m\n\u001b[1;32m----> 3\u001b[0m     driver \u001b[38;5;241m=\u001b[39m uc\u001b[38;5;241m.\u001b[39mChrome(version_main\u001b[38;5;241m=\u001b[39m\u001b[38;5;241m135\u001b[39m)\n\u001b[0;32m      4\u001b[0m     driver\u001b[38;5;241m.\u001b[39mget(url)\n\u001b[0;32m      6\u001b[0m     \u001b[38;5;28mprint\u001b[39m(\u001b[38;5;124m\"\u001b[39m\u001b[38;5;124mWaiting for page to load...\u001b[39m\u001b[38;5;124m\"\u001b[39m)\n",
      "File \u001b[1;32m~\\AppData\\Roaming\\Python\\Python312\\site-packages\\undetected_chromedriver\\__init__.py:258\u001b[0m, in \u001b[0;36mChrome.__init__\u001b[1;34m(self, options, user_data_dir, driver_executable_path, browser_executable_path, port, enable_cdp_events, desired_capabilities, advanced_elements, keep_alive, log_level, headless, version_main, patcher_force_close, suppress_welcome, use_subprocess, debug, no_sandbox, user_multi_procs, **kw)\u001b[0m\n\u001b[0;32m    251\u001b[0m \u001b[38;5;28mself\u001b[39m\u001b[38;5;241m.\u001b[39mpatcher \u001b[38;5;241m=\u001b[39m Patcher(\n\u001b[0;32m    252\u001b[0m     executable_path\u001b[38;5;241m=\u001b[39mdriver_executable_path,\n\u001b[0;32m    253\u001b[0m     force\u001b[38;5;241m=\u001b[39mpatcher_force_close,\n\u001b[0;32m    254\u001b[0m     version_main\u001b[38;5;241m=\u001b[39mversion_main,\n\u001b[0;32m    255\u001b[0m     user_multi_procs\u001b[38;5;241m=\u001b[39muser_multi_procs,\n\u001b[0;32m    256\u001b[0m )\n\u001b[0;32m    257\u001b[0m \u001b[38;5;66;03m# self.patcher.auto(user_multiprocess = user_multi_num_procs)\u001b[39;00m\n\u001b[1;32m--> 258\u001b[0m \u001b[38;5;28mself\u001b[39m\u001b[38;5;241m.\u001b[39mpatcher\u001b[38;5;241m.\u001b[39mauto()\n\u001b[0;32m    260\u001b[0m \u001b[38;5;66;03m# self.patcher = patcher\u001b[39;00m\n\u001b[0;32m    261\u001b[0m \u001b[38;5;28;01mif\u001b[39;00m \u001b[38;5;129;01mnot\u001b[39;00m options:\n",
      "File \u001b[1;32m~\\AppData\\Roaming\\Python\\Python312\\site-packages\\undetected_chromedriver\\patcher.py:179\u001b[0m, in \u001b[0;36mPatcher.auto\u001b[1;34m(self, executable_path, force, version_main, _)\u001b[0m\n\u001b[0;32m    177\u001b[0m \u001b[38;5;28mself\u001b[39m\u001b[38;5;241m.\u001b[39mversion_full \u001b[38;5;241m=\u001b[39m release\n\u001b[0;32m    178\u001b[0m \u001b[38;5;28mself\u001b[39m\u001b[38;5;241m.\u001b[39munzip_package(\u001b[38;5;28mself\u001b[39m\u001b[38;5;241m.\u001b[39mfetch_package())\n\u001b[1;32m--> 179\u001b[0m \u001b[38;5;28;01mreturn\u001b[39;00m \u001b[38;5;28mself\u001b[39m\u001b[38;5;241m.\u001b[39mpatch()\n",
      "File \u001b[1;32m~\\AppData\\Roaming\\Python\\Python312\\site-packages\\undetected_chromedriver\\patcher.py:229\u001b[0m, in \u001b[0;36mPatcher.patch\u001b[1;34m(self)\u001b[0m\n\u001b[0;32m    228\u001b[0m \u001b[38;5;28;01mdef\u001b[39;00m \u001b[38;5;21mpatch\u001b[39m(\u001b[38;5;28mself\u001b[39m):\n\u001b[1;32m--> 229\u001b[0m     \u001b[38;5;28mself\u001b[39m\u001b[38;5;241m.\u001b[39mpatch_exe()\n\u001b[0;32m    230\u001b[0m     \u001b[38;5;28;01mreturn\u001b[39;00m \u001b[38;5;28mself\u001b[39m\u001b[38;5;241m.\u001b[39mis_binary_patched()\n",
      "File \u001b[1;32m~\\AppData\\Roaming\\Python\\Python312\\site-packages\\undetected_chromedriver\\patcher.py:347\u001b[0m, in \u001b[0;36mPatcher.patch_exe\u001b[1;34m(self)\u001b[0m\n\u001b[0;32m    345\u001b[0m start \u001b[38;5;241m=\u001b[39m time\u001b[38;5;241m.\u001b[39mperf_counter()\n\u001b[0;32m    346\u001b[0m logger\u001b[38;5;241m.\u001b[39minfo(\u001b[38;5;124m\"\u001b[39m\u001b[38;5;124mpatching driver executable \u001b[39m\u001b[38;5;132;01m%s\u001b[39;00m\u001b[38;5;124m\"\u001b[39m \u001b[38;5;241m%\u001b[39m \u001b[38;5;28mself\u001b[39m\u001b[38;5;241m.\u001b[39mexecutable_path)\n\u001b[1;32m--> 347\u001b[0m \u001b[38;5;28;01mwith\u001b[39;00m io\u001b[38;5;241m.\u001b[39mopen(\u001b[38;5;28mself\u001b[39m\u001b[38;5;241m.\u001b[39mexecutable_path, \u001b[38;5;124m\"\u001b[39m\u001b[38;5;124mr+b\u001b[39m\u001b[38;5;124m\"\u001b[39m) \u001b[38;5;28;01mas\u001b[39;00m fh:\n\u001b[0;32m    348\u001b[0m     content \u001b[38;5;241m=\u001b[39m fh\u001b[38;5;241m.\u001b[39mread()\n\u001b[0;32m    349\u001b[0m     \u001b[38;5;66;03m# match_injected_codeblock = re.search(rb\"{window.*;}\", content)\u001b[39;00m\n",
      "\u001b[1;31mKeyboardInterrupt\u001b[0m: "
     ]
    }
   ],
   "source": [
    "# Automating the scraping of data\n",
    "match_ids = [89295, 89296, 89297, 89298, 89299, 89367, 89368, 89366, 89737, 89921, 89922]\n",
    "\n",
    "for match_id in match_ids:\n",
    "    df = scrape_data(match_id)\n",
    "    temp_df = pd.concat([temp_df, df], ignore_index=True)\n",
    "\n",
    "temp_df"
   ]
  },
  {
   "cell_type": "markdown",
   "id": "87ef04ef",
   "metadata": {},
   "source": [
    "---\n",
    "\n",
    "## Saving and Loading the Datasets"
   ]
  },
  {
   "cell_type": "code",
   "execution_count": null,
   "id": "7aae4a40",
   "metadata": {},
   "outputs": [],
   "source": [
    "kickoff_df = pd.read_csv('Datasets/kickoff.csv')\n",
    "kickoff_df = kickoff_df.drop(columns=['Unnamed: 0'])"
   ]
  },
  {
   "cell_type": "code",
   "execution_count": 90,
   "id": "3e3f2b60",
   "metadata": {},
   "outputs": [],
   "source": [
    "kickoff_df.to_csv('Datasets/kickoff.csv')"
   ]
  },
  {
   "cell_type": "code",
   "execution_count": 45,
   "id": "5f914d9b",
   "metadata": {},
   "outputs": [],
   "source": [
    "masters_df = pd.read_csv('Datasets/kickoff_with_masters.csv')\n",
    "masters_df = masters_df.drop(columns=['Unnamed: 0'])"
   ]
  },
  {
   "cell_type": "code",
   "execution_count": 63,
   "id": "96677d7e",
   "metadata": {},
   "outputs": [],
   "source": [
    "masters_df.to_csv('Datasets/kickoff_with_masters.csv')"
   ]
  },
  {
   "cell_type": "code",
   "execution_count": 5,
   "id": "baf5465a",
   "metadata": {},
   "outputs": [],
   "source": [
    "stage1_df = pd.read_csv('Datasets/stage1_14_04_25.csv')\n",
    "stage1_df = stage1_df.drop(columns=['Unnamed: 0'])"
   ]
  },
  {
   "cell_type": "code",
   "execution_count": 3,
   "id": "21f203c8",
   "metadata": {},
   "outputs": [],
   "source": [
    "playoffs_df = pd.read_csv('Datasets/playoffs.csv')\n",
    "playoffs_df = playoffs_df.drop(columns=['Unnamed: 0'])"
   ]
  },
  {
   "cell_type": "code",
   "execution_count": 40,
   "id": "1694b6d3",
   "metadata": {},
   "outputs": [],
   "source": [
    "temp_df.to_csv('Datasets/playoffs.csv')"
   ]
  },
  {
   "cell_type": "code",
   "execution_count": 47,
   "id": "821bd4f2",
   "metadata": {},
   "outputs": [],
   "source": [
    "total_df = pd.concat([masters_df, stage1_df], ignore_index=True)"
   ]
  },
  {
   "cell_type": "code",
   "execution_count": 57,
   "id": "0290a7c3",
   "metadata": {
    "collapsed": true,
    "jupyter": {
     "outputs_hidden": true
    }
   },
   "outputs": [],
   "source": [
    "temp_df.to_csv('Datasets/apac_stage1_playoffs.csv')"
   ]
  },
  {
   "cell_type": "code",
   "execution_count": 135,
   "id": "b6935e76",
   "metadata": {
    "collapsed": true,
    "jupyter": {
     "outputs_hidden": true
    }
   },
   "outputs": [
    {
     "name": "stdout",
     "output_type": "stream",
     "text": [
      "<class 'pandas.core.frame.DataFrame'>\n",
      "RangeIndex: 120 entries, 0 to 119\n",
      "Data columns (total 36 columns):\n",
      " #   Column                 Non-Null Count  Dtype  \n",
      "---  ------                 --------------  -----  \n",
      " 0   Team                   120 non-null    object \n",
      " 1   Pistol Rounds Won      120 non-null    int64  \n",
      " 2   First Kills            120 non-null    int64  \n",
      " 3   KAST                   120 non-null    float64\n",
      " 4   Clutches               120 non-null    float64\n",
      " 5   Eco                    120 non-null    float64\n",
      " 6   Semi-Eco               120 non-null    float64\n",
      " 7   Half-Buy               120 non-null    float64\n",
      " 8   Full-Buy               120 non-null    float64\n",
      " 9   +1                     120 non-null    float64\n",
      " 10  -1                     120 non-null    float64\n",
      " 11  0                      120 non-null    float64\n",
      " 12  +2                     120 non-null    float64\n",
      " 13  -2                     120 non-null    float64\n",
      " 14  -3                     120 non-null    float64\n",
      " 15  +3                     120 non-null    float64\n",
      " 16  +4                     116 non-null    float64\n",
      " 17  -4                     116 non-null    float64\n",
      " 18  Pistol Rounds Won Opp  120 non-null    int64  \n",
      " 19  First Kills Opp        120 non-null    int64  \n",
      " 20  KAST Opp               120 non-null    float64\n",
      " 21  Clutches Opp           120 non-null    float64\n",
      " 22  Eco Opp                120 non-null    float64\n",
      " 23  Semi-Eco Opp           120 non-null    float64\n",
      " 24  Half-Buy Opp           120 non-null    float64\n",
      " 25  Full-Buy Opp           120 non-null    float64\n",
      " 26  +1 Opp                 120 non-null    float64\n",
      " 27  -1 Opp                 120 non-null    float64\n",
      " 28  0 Opp                  120 non-null    float64\n",
      " 29  +2 Opp                 120 non-null    float64\n",
      " 30  -2 Opp                 120 non-null    float64\n",
      " 31  -3 Opp                 120 non-null    float64\n",
      " 32  +3 Opp                 120 non-null    float64\n",
      " 33  +4 Opp                 120 non-null    float64\n",
      " 34  -4 Opp                 120 non-null    float64\n",
      " 35  Result                 120 non-null    int64  \n",
      "dtypes: float64(30), int64(5), object(1)\n",
      "memory usage: 33.9+ KB\n"
     ]
    }
   ],
   "source": [
    "total_df.info()"
   ]
  }
 ],
 "metadata": {
  "kernelspec": {
   "display_name": "base",
   "language": "python",
   "name": "python3"
  },
  "language_info": {
   "codemirror_mode": {
    "name": "ipython",
    "version": 3
   },
   "file_extension": ".py",
   "mimetype": "text/x-python",
   "name": "python",
   "nbconvert_exporter": "python",
   "pygments_lexer": "ipython3",
   "version": "3.12.7"
  }
 },
 "nbformat": 4,
 "nbformat_minor": 5
}
